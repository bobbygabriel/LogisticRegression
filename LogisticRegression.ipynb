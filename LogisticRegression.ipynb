{
 "cells": [
  {
   "attachments": {},
   "cell_type": "markdown",
   "metadata": {},
   "source": [
    "# Classification with Logistic Regression"
   ]
  },
  {
   "attachments": {},
   "cell_type": "markdown",
   "metadata": {},
   "source": [
    "### Importing the modules"
   ]
  },
  {
   "cell_type": "code",
   "execution_count": 395,
   "metadata": {},
   "outputs": [],
   "source": [
    "import pandas as pd\n",
    "import numpy as np\n",
    "from sklearn.model_selection import train_test_split\n",
    "from sklearn.linear_model import LogisticRegression\n",
    "from sklearn.metrics import classification_report, confusion_matrix, ConfusionMatrixDisplay, mean_squared_error\n",
    "import matplotlib.pyplot as plt\n",
    "import seaborn as sns\n"
   ]
  },
  {
   "attachments": {},
   "cell_type": "markdown",
   "metadata": {},
   "source": [
    "### Exploring the dataset"
   ]
  },
  {
   "cell_type": "code",
   "execution_count": 396,
   "metadata": {},
   "outputs": [],
   "source": [
    "data = pd.read_csv('nasa.csv')"
   ]
  },
  {
   "cell_type": "code",
   "execution_count": 397,
   "metadata": {},
   "outputs": [
    {
     "data": {
      "text/html": [
       "<div>\n",
       "<style scoped>\n",
       "    .dataframe tbody tr th:only-of-type {\n",
       "        vertical-align: middle;\n",
       "    }\n",
       "\n",
       "    .dataframe tbody tr th {\n",
       "        vertical-align: top;\n",
       "    }\n",
       "\n",
       "    .dataframe thead th {\n",
       "        text-align: right;\n",
       "    }\n",
       "</style>\n",
       "<table border=\"1\" class=\"dataframe\">\n",
       "  <thead>\n",
       "    <tr style=\"text-align: right;\">\n",
       "      <th></th>\n",
       "      <th>Neo Reference ID</th>\n",
       "      <th>Name</th>\n",
       "      <th>Absolute Magnitude</th>\n",
       "      <th>Est Dia in KM(min)</th>\n",
       "      <th>Est Dia in KM(max)</th>\n",
       "      <th>Est Dia in M(min)</th>\n",
       "      <th>Est Dia in M(max)</th>\n",
       "      <th>Est Dia in Miles(min)</th>\n",
       "      <th>Est Dia in Miles(max)</th>\n",
       "      <th>Est Dia in Feet(min)</th>\n",
       "      <th>...</th>\n",
       "      <th>Asc Node Longitude</th>\n",
       "      <th>Orbital Period</th>\n",
       "      <th>Perihelion Distance</th>\n",
       "      <th>Perihelion Arg</th>\n",
       "      <th>Aphelion Dist</th>\n",
       "      <th>Perihelion Time</th>\n",
       "      <th>Mean Anomaly</th>\n",
       "      <th>Mean Motion</th>\n",
       "      <th>Equinox</th>\n",
       "      <th>Hazardous</th>\n",
       "    </tr>\n",
       "  </thead>\n",
       "  <tbody>\n",
       "    <tr>\n",
       "      <th>0</th>\n",
       "      <td>3703080</td>\n",
       "      <td>3703080</td>\n",
       "      <td>21.6</td>\n",
       "      <td>0.127220</td>\n",
       "      <td>0.284472</td>\n",
       "      <td>127.219879</td>\n",
       "      <td>284.472297</td>\n",
       "      <td>0.079051</td>\n",
       "      <td>0.176763</td>\n",
       "      <td>417.388066</td>\n",
       "      <td>...</td>\n",
       "      <td>314.373913</td>\n",
       "      <td>609.599786</td>\n",
       "      <td>0.808259</td>\n",
       "      <td>57.257470</td>\n",
       "      <td>2.005764</td>\n",
       "      <td>2.458162e+06</td>\n",
       "      <td>264.837533</td>\n",
       "      <td>0.590551</td>\n",
       "      <td>J2000</td>\n",
       "      <td>True</td>\n",
       "    </tr>\n",
       "    <tr>\n",
       "      <th>1</th>\n",
       "      <td>3723955</td>\n",
       "      <td>3723955</td>\n",
       "      <td>21.3</td>\n",
       "      <td>0.146068</td>\n",
       "      <td>0.326618</td>\n",
       "      <td>146.067964</td>\n",
       "      <td>326.617897</td>\n",
       "      <td>0.090762</td>\n",
       "      <td>0.202951</td>\n",
       "      <td>479.225620</td>\n",
       "      <td>...</td>\n",
       "      <td>136.717242</td>\n",
       "      <td>425.869294</td>\n",
       "      <td>0.718200</td>\n",
       "      <td>313.091975</td>\n",
       "      <td>1.497352</td>\n",
       "      <td>2.457795e+06</td>\n",
       "      <td>173.741112</td>\n",
       "      <td>0.845330</td>\n",
       "      <td>J2000</td>\n",
       "      <td>False</td>\n",
       "    </tr>\n",
       "    <tr>\n",
       "      <th>2</th>\n",
       "      <td>2446862</td>\n",
       "      <td>2446862</td>\n",
       "      <td>20.3</td>\n",
       "      <td>0.231502</td>\n",
       "      <td>0.517654</td>\n",
       "      <td>231.502122</td>\n",
       "      <td>517.654482</td>\n",
       "      <td>0.143849</td>\n",
       "      <td>0.321655</td>\n",
       "      <td>759.521423</td>\n",
       "      <td>...</td>\n",
       "      <td>259.475979</td>\n",
       "      <td>643.580228</td>\n",
       "      <td>0.950791</td>\n",
       "      <td>248.415038</td>\n",
       "      <td>1.966857</td>\n",
       "      <td>2.458120e+06</td>\n",
       "      <td>292.893654</td>\n",
       "      <td>0.559371</td>\n",
       "      <td>J2000</td>\n",
       "      <td>True</td>\n",
       "    </tr>\n",
       "    <tr>\n",
       "      <th>3</th>\n",
       "      <td>3092506</td>\n",
       "      <td>3092506</td>\n",
       "      <td>27.4</td>\n",
       "      <td>0.008801</td>\n",
       "      <td>0.019681</td>\n",
       "      <td>8.801465</td>\n",
       "      <td>19.680675</td>\n",
       "      <td>0.005469</td>\n",
       "      <td>0.012229</td>\n",
       "      <td>28.876199</td>\n",
       "      <td>...</td>\n",
       "      <td>57.173266</td>\n",
       "      <td>514.082140</td>\n",
       "      <td>0.983902</td>\n",
       "      <td>18.707701</td>\n",
       "      <td>1.527904</td>\n",
       "      <td>2.457902e+06</td>\n",
       "      <td>68.741007</td>\n",
       "      <td>0.700277</td>\n",
       "      <td>J2000</td>\n",
       "      <td>False</td>\n",
       "    </tr>\n",
       "    <tr>\n",
       "      <th>4</th>\n",
       "      <td>3514799</td>\n",
       "      <td>3514799</td>\n",
       "      <td>21.6</td>\n",
       "      <td>0.127220</td>\n",
       "      <td>0.284472</td>\n",
       "      <td>127.219879</td>\n",
       "      <td>284.472297</td>\n",
       "      <td>0.079051</td>\n",
       "      <td>0.176763</td>\n",
       "      <td>417.388066</td>\n",
       "      <td>...</td>\n",
       "      <td>84.629307</td>\n",
       "      <td>495.597821</td>\n",
       "      <td>0.967687</td>\n",
       "      <td>158.263596</td>\n",
       "      <td>1.483543</td>\n",
       "      <td>2.457814e+06</td>\n",
       "      <td>135.142133</td>\n",
       "      <td>0.726395</td>\n",
       "      <td>J2000</td>\n",
       "      <td>True</td>\n",
       "    </tr>\n",
       "  </tbody>\n",
       "</table>\n",
       "<p>5 rows × 40 columns</p>\n",
       "</div>"
      ],
      "text/plain": [
       "   Neo Reference ID     Name  Absolute Magnitude  Est Dia in KM(min)  \\\n",
       "0           3703080  3703080                21.6            0.127220   \n",
       "1           3723955  3723955                21.3            0.146068   \n",
       "2           2446862  2446862                20.3            0.231502   \n",
       "3           3092506  3092506                27.4            0.008801   \n",
       "4           3514799  3514799                21.6            0.127220   \n",
       "\n",
       "   Est Dia in KM(max)  Est Dia in M(min)  Est Dia in M(max)  \\\n",
       "0            0.284472         127.219879         284.472297   \n",
       "1            0.326618         146.067964         326.617897   \n",
       "2            0.517654         231.502122         517.654482   \n",
       "3            0.019681           8.801465          19.680675   \n",
       "4            0.284472         127.219879         284.472297   \n",
       "\n",
       "   Est Dia in Miles(min)  Est Dia in Miles(max)  Est Dia in Feet(min)  ...  \\\n",
       "0               0.079051               0.176763            417.388066  ...   \n",
       "1               0.090762               0.202951            479.225620  ...   \n",
       "2               0.143849               0.321655            759.521423  ...   \n",
       "3               0.005469               0.012229             28.876199  ...   \n",
       "4               0.079051               0.176763            417.388066  ...   \n",
       "\n",
       "   Asc Node Longitude Orbital Period  Perihelion Distance  Perihelion Arg  \\\n",
       "0          314.373913     609.599786             0.808259       57.257470   \n",
       "1          136.717242     425.869294             0.718200      313.091975   \n",
       "2          259.475979     643.580228             0.950791      248.415038   \n",
       "3           57.173266     514.082140             0.983902       18.707701   \n",
       "4           84.629307     495.597821             0.967687      158.263596   \n",
       "\n",
       "   Aphelion Dist  Perihelion Time  Mean Anomaly  Mean Motion  Equinox  \\\n",
       "0       2.005764     2.458162e+06    264.837533     0.590551    J2000   \n",
       "1       1.497352     2.457795e+06    173.741112     0.845330    J2000   \n",
       "2       1.966857     2.458120e+06    292.893654     0.559371    J2000   \n",
       "3       1.527904     2.457902e+06     68.741007     0.700277    J2000   \n",
       "4       1.483543     2.457814e+06    135.142133     0.726395    J2000   \n",
       "\n",
       "   Hazardous  \n",
       "0       True  \n",
       "1      False  \n",
       "2       True  \n",
       "3      False  \n",
       "4       True  \n",
       "\n",
       "[5 rows x 40 columns]"
      ]
     },
     "execution_count": 397,
     "metadata": {},
     "output_type": "execute_result"
    }
   ],
   "source": [
    "data.head()"
   ]
  },
  {
   "cell_type": "code",
   "execution_count": 398,
   "metadata": {},
   "outputs": [
    {
     "name": "stdout",
     "output_type": "stream",
     "text": [
      "<class 'pandas.core.frame.DataFrame'>\n",
      "RangeIndex: 4687 entries, 0 to 4686\n",
      "Data columns (total 40 columns):\n",
      " #   Column                        Non-Null Count  Dtype  \n",
      "---  ------                        --------------  -----  \n",
      " 0   Neo Reference ID              4687 non-null   int64  \n",
      " 1   Name                          4687 non-null   int64  \n",
      " 2   Absolute Magnitude            4687 non-null   float64\n",
      " 3   Est Dia in KM(min)            4687 non-null   float64\n",
      " 4   Est Dia in KM(max)            4687 non-null   float64\n",
      " 5   Est Dia in M(min)             4687 non-null   float64\n",
      " 6   Est Dia in M(max)             4687 non-null   float64\n",
      " 7   Est Dia in Miles(min)         4687 non-null   float64\n",
      " 8   Est Dia in Miles(max)         4687 non-null   float64\n",
      " 9   Est Dia in Feet(min)          4687 non-null   float64\n",
      " 10  Est Dia in Feet(max)          4687 non-null   float64\n",
      " 11  Close Approach Date           4687 non-null   object \n",
      " 12  Epoch Date Close Approach     4687 non-null   int64  \n",
      " 13  Relative Velocity km per sec  4687 non-null   float64\n",
      " 14  Relative Velocity km per hr   4687 non-null   float64\n",
      " 15  Miles per hour                4687 non-null   float64\n",
      " 16  Miss Dist.(Astronomical)      4687 non-null   float64\n",
      " 17  Miss Dist.(lunar)             4687 non-null   float64\n",
      " 18  Miss Dist.(kilometers)        4687 non-null   float64\n",
      " 19  Miss Dist.(miles)             4687 non-null   float64\n",
      " 20  Orbiting Body                 4687 non-null   object \n",
      " 21  Orbit ID                      4687 non-null   int64  \n",
      " 22  Orbit Determination Date      4687 non-null   object \n",
      " 23  Orbit Uncertainity            4687 non-null   int64  \n",
      " 24  Minimum Orbit Intersection    4687 non-null   float64\n",
      " 25  Jupiter Tisserand Invariant   4687 non-null   float64\n",
      " 26  Epoch Osculation              4687 non-null   float64\n",
      " 27  Eccentricity                  4687 non-null   float64\n",
      " 28  Semi Major Axis               4687 non-null   float64\n",
      " 29  Inclination                   4687 non-null   float64\n",
      " 30  Asc Node Longitude            4687 non-null   float64\n",
      " 31  Orbital Period                4687 non-null   float64\n",
      " 32  Perihelion Distance           4687 non-null   float64\n",
      " 33  Perihelion Arg                4687 non-null   float64\n",
      " 34  Aphelion Dist                 4687 non-null   float64\n",
      " 35  Perihelion Time               4687 non-null   float64\n",
      " 36  Mean Anomaly                  4687 non-null   float64\n",
      " 37  Mean Motion                   4687 non-null   float64\n",
      " 38  Equinox                       4687 non-null   object \n",
      " 39  Hazardous                     4687 non-null   bool   \n",
      "dtypes: bool(1), float64(30), int64(5), object(4)\n",
      "memory usage: 1.4+ MB\n"
     ]
    }
   ],
   "source": [
    "data.info()"
   ]
  },
  {
   "cell_type": "code",
   "execution_count": 399,
   "metadata": {},
   "outputs": [
    {
     "data": {
      "text/plain": [
       "Neo Reference ID                0\n",
       "Name                            0\n",
       "Absolute Magnitude              0\n",
       "Est Dia in KM(min)              0\n",
       "Est Dia in KM(max)              0\n",
       "Est Dia in M(min)               0\n",
       "Est Dia in M(max)               0\n",
       "Est Dia in Miles(min)           0\n",
       "Est Dia in Miles(max)           0\n",
       "Est Dia in Feet(min)            0\n",
       "Est Dia in Feet(max)            0\n",
       "Close Approach Date             0\n",
       "Epoch Date Close Approach       0\n",
       "Relative Velocity km per sec    0\n",
       "Relative Velocity km per hr     0\n",
       "Miles per hour                  0\n",
       "Miss Dist.(Astronomical)        0\n",
       "Miss Dist.(lunar)               0\n",
       "Miss Dist.(kilometers)          0\n",
       "Miss Dist.(miles)               0\n",
       "Orbiting Body                   0\n",
       "Orbit ID                        0\n",
       "Orbit Determination Date        0\n",
       "Orbit Uncertainity              0\n",
       "Minimum Orbit Intersection      0\n",
       "Jupiter Tisserand Invariant     0\n",
       "Epoch Osculation                0\n",
       "Eccentricity                    0\n",
       "Semi Major Axis                 0\n",
       "Inclination                     0\n",
       "Asc Node Longitude              0\n",
       "Orbital Period                  0\n",
       "Perihelion Distance             0\n",
       "Perihelion Arg                  0\n",
       "Aphelion Dist                   0\n",
       "Perihelion Time                 0\n",
       "Mean Anomaly                    0\n",
       "Mean Motion                     0\n",
       "Equinox                         0\n",
       "Hazardous                       0\n",
       "dtype: int64"
      ]
     },
     "execution_count": 399,
     "metadata": {},
     "output_type": "execute_result"
    }
   ],
   "source": [
    "data.isnull().sum()"
   ]
  },
  {
   "attachments": {},
   "cell_type": "markdown",
   "metadata": {},
   "source": [
    "## Data Preprocessing"
   ]
  },
  {
   "attachments": {},
   "cell_type": "markdown",
   "metadata": {},
   "source": [
    "- Dropping `Neo Reference ID`, `Est Dia in KM(min)`, `Est Dia in KM(max)`, `Est Dia in M(min)`, `Est Dia in M(max)`, `Est Dia in Miles(min)`, `Est Dia in Miles(max)`, `Name`, `Relative Velocity km per hr`, `Miss Dist.(lunar)`, `Miss Dist.(kilometers)`  as they are extraneous with other variables.\n",
    "- Dropping `Orbiting Body`, `Equinox`, as they only have 1 unique value."
   ]
  },
  {
   "cell_type": "code",
   "execution_count": 400,
   "metadata": {},
   "outputs": [],
   "source": [
    "data.drop(['Neo Reference ID', 'Est Dia in KM(max)', 'Est Dia in KM(min)', 'Est Dia in M(min)', 'Est Dia in M(max)', 'Est Dia in Miles(min)', 'Est Dia in Miles(max)', \n",
    "           'Name', 'Relative Velocity km per hr', 'Miss Dist.(lunar)', 'Miss Dist.(kilometers)', 'Orbiting Body', 'Equinox'], axis=1, inplace=True)\n"
   ]
  },
  {
   "cell_type": "code",
   "execution_count": 401,
   "metadata": {},
   "outputs": [],
   "source": [
    "data.drop(['Close Approach Date', 'Orbit Determination Date'], axis=1, inplace=True)"
   ]
  },
  {
   "attachments": {},
   "cell_type": "markdown",
   "metadata": {},
   "source": [
    "- `scores_overall` and `stats_number_students` look like float values but are actually object values due to some extra characters in some of the values\n",
    "- We will remove those and convert the column to float\n",
    "- we will also round `scores_overall`."
   ]
  },
  {
   "cell_type": "code",
   "execution_count": 402,
   "metadata": {},
   "outputs": [
    {
     "name": "stdout",
     "output_type": "stream",
     "text": [
      "<class 'pandas.core.frame.DataFrame'>\n",
      "RangeIndex: 4687 entries, 0 to 4686\n",
      "Data columns (total 25 columns):\n",
      " #   Column                        Non-Null Count  Dtype  \n",
      "---  ------                        --------------  -----  \n",
      " 0   Absolute Magnitude            4687 non-null   float64\n",
      " 1   Est Dia in Feet(min)          4687 non-null   float64\n",
      " 2   Est Dia in Feet(max)          4687 non-null   float64\n",
      " 3   Epoch Date Close Approach     4687 non-null   int64  \n",
      " 4   Relative Velocity km per sec  4687 non-null   float64\n",
      " 5   Miles per hour                4687 non-null   float64\n",
      " 6   Miss Dist.(Astronomical)      4687 non-null   float64\n",
      " 7   Miss Dist.(miles)             4687 non-null   float64\n",
      " 8   Orbit ID                      4687 non-null   int64  \n",
      " 9   Orbit Uncertainity            4687 non-null   int64  \n",
      " 10  Minimum Orbit Intersection    4687 non-null   float64\n",
      " 11  Jupiter Tisserand Invariant   4687 non-null   float64\n",
      " 12  Epoch Osculation              4687 non-null   float64\n",
      " 13  Eccentricity                  4687 non-null   float64\n",
      " 14  Semi Major Axis               4687 non-null   float64\n",
      " 15  Inclination                   4687 non-null   float64\n",
      " 16  Asc Node Longitude            4687 non-null   float64\n",
      " 17  Orbital Period                4687 non-null   float64\n",
      " 18  Perihelion Distance           4687 non-null   float64\n",
      " 19  Perihelion Arg                4687 non-null   float64\n",
      " 20  Aphelion Dist                 4687 non-null   float64\n",
      " 21  Perihelion Time               4687 non-null   float64\n",
      " 22  Mean Anomaly                  4687 non-null   float64\n",
      " 23  Mean Motion                   4687 non-null   float64\n",
      " 24  Hazardous                     4687 non-null   bool   \n",
      "dtypes: bool(1), float64(21), int64(3)\n",
      "memory usage: 883.5 KB\n"
     ]
    }
   ],
   "source": [
    "data.info()"
   ]
  },
  {
   "cell_type": "code",
   "execution_count": 403,
   "metadata": {},
   "outputs": [],
   "source": [
    "# Changing target bool variable of hazardous to 1 and 0 as opposed to true or false\n",
    "data['Hazardous'] = data['Hazardous'].astype('int64')\n"
   ]
  },
  {
   "cell_type": "code",
   "execution_count": 404,
   "metadata": {},
   "outputs": [
    {
     "data": {
      "text/html": [
       "<div>\n",
       "<style scoped>\n",
       "    .dataframe tbody tr th:only-of-type {\n",
       "        vertical-align: middle;\n",
       "    }\n",
       "\n",
       "    .dataframe tbody tr th {\n",
       "        vertical-align: top;\n",
       "    }\n",
       "\n",
       "    .dataframe thead th {\n",
       "        text-align: right;\n",
       "    }\n",
       "</style>\n",
       "<table border=\"1\" class=\"dataframe\">\n",
       "  <thead>\n",
       "    <tr style=\"text-align: right;\">\n",
       "      <th></th>\n",
       "      <th>Absolute Magnitude</th>\n",
       "      <th>Est Dia in Feet(min)</th>\n",
       "      <th>Est Dia in Feet(max)</th>\n",
       "      <th>Epoch Date Close Approach</th>\n",
       "      <th>Relative Velocity km per sec</th>\n",
       "      <th>Miles per hour</th>\n",
       "      <th>Miss Dist.(Astronomical)</th>\n",
       "      <th>Miss Dist.(miles)</th>\n",
       "      <th>Orbit ID</th>\n",
       "      <th>Orbit Uncertainity</th>\n",
       "      <th>...</th>\n",
       "      <th>Inclination</th>\n",
       "      <th>Asc Node Longitude</th>\n",
       "      <th>Orbital Period</th>\n",
       "      <th>Perihelion Distance</th>\n",
       "      <th>Perihelion Arg</th>\n",
       "      <th>Aphelion Dist</th>\n",
       "      <th>Perihelion Time</th>\n",
       "      <th>Mean Anomaly</th>\n",
       "      <th>Mean Motion</th>\n",
       "      <th>Hazardous</th>\n",
       "    </tr>\n",
       "  </thead>\n",
       "  <tbody>\n",
       "    <tr>\n",
       "      <th>0</th>\n",
       "      <td>21.6</td>\n",
       "      <td>417.388066</td>\n",
       "      <td>933.308089</td>\n",
       "      <td>788947200000</td>\n",
       "      <td>6.115834</td>\n",
       "      <td>13680.509944</td>\n",
       "      <td>0.419483</td>\n",
       "      <td>38993336.0</td>\n",
       "      <td>17</td>\n",
       "      <td>5</td>\n",
       "      <td>...</td>\n",
       "      <td>6.025981</td>\n",
       "      <td>314.373913</td>\n",
       "      <td>609.599786</td>\n",
       "      <td>0.808259</td>\n",
       "      <td>57.257470</td>\n",
       "      <td>2.005764</td>\n",
       "      <td>2.458162e+06</td>\n",
       "      <td>264.837533</td>\n",
       "      <td>0.590551</td>\n",
       "      <td>1</td>\n",
       "    </tr>\n",
       "    <tr>\n",
       "      <th>1</th>\n",
       "      <td>21.3</td>\n",
       "      <td>479.225620</td>\n",
       "      <td>1071.581063</td>\n",
       "      <td>788947200000</td>\n",
       "      <td>18.113985</td>\n",
       "      <td>40519.173105</td>\n",
       "      <td>0.383014</td>\n",
       "      <td>35603420.0</td>\n",
       "      <td>21</td>\n",
       "      <td>3</td>\n",
       "      <td>...</td>\n",
       "      <td>28.412996</td>\n",
       "      <td>136.717242</td>\n",
       "      <td>425.869294</td>\n",
       "      <td>0.718200</td>\n",
       "      <td>313.091975</td>\n",
       "      <td>1.497352</td>\n",
       "      <td>2.457795e+06</td>\n",
       "      <td>173.741112</td>\n",
       "      <td>0.845330</td>\n",
       "      <td>0</td>\n",
       "    </tr>\n",
       "    <tr>\n",
       "      <th>2</th>\n",
       "      <td>20.3</td>\n",
       "      <td>759.521423</td>\n",
       "      <td>1698.341531</td>\n",
       "      <td>789552000000</td>\n",
       "      <td>7.590711</td>\n",
       "      <td>16979.661798</td>\n",
       "      <td>0.050956</td>\n",
       "      <td>4736657.5</td>\n",
       "      <td>22</td>\n",
       "      <td>0</td>\n",
       "      <td>...</td>\n",
       "      <td>4.237961</td>\n",
       "      <td>259.475979</td>\n",
       "      <td>643.580228</td>\n",
       "      <td>0.950791</td>\n",
       "      <td>248.415038</td>\n",
       "      <td>1.966857</td>\n",
       "      <td>2.458120e+06</td>\n",
       "      <td>292.893654</td>\n",
       "      <td>0.559371</td>\n",
       "      <td>1</td>\n",
       "    </tr>\n",
       "    <tr>\n",
       "      <th>3</th>\n",
       "      <td>27.4</td>\n",
       "      <td>28.876199</td>\n",
       "      <td>64.569144</td>\n",
       "      <td>790156800000</td>\n",
       "      <td>11.173874</td>\n",
       "      <td>24994.839864</td>\n",
       "      <td>0.285322</td>\n",
       "      <td>26522368.0</td>\n",
       "      <td>7</td>\n",
       "      <td>6</td>\n",
       "      <td>...</td>\n",
       "      <td>7.905894</td>\n",
       "      <td>57.173266</td>\n",
       "      <td>514.082140</td>\n",
       "      <td>0.983902</td>\n",
       "      <td>18.707701</td>\n",
       "      <td>1.527904</td>\n",
       "      <td>2.457902e+06</td>\n",
       "      <td>68.741007</td>\n",
       "      <td>0.700277</td>\n",
       "      <td>0</td>\n",
       "    </tr>\n",
       "    <tr>\n",
       "      <th>4</th>\n",
       "      <td>21.6</td>\n",
       "      <td>417.388066</td>\n",
       "      <td>933.308089</td>\n",
       "      <td>790156800000</td>\n",
       "      <td>9.840831</td>\n",
       "      <td>22012.954985</td>\n",
       "      <td>0.407832</td>\n",
       "      <td>37910368.0</td>\n",
       "      <td>25</td>\n",
       "      <td>1</td>\n",
       "      <td>...</td>\n",
       "      <td>16.793382</td>\n",
       "      <td>84.629307</td>\n",
       "      <td>495.597821</td>\n",
       "      <td>0.967687</td>\n",
       "      <td>158.263596</td>\n",
       "      <td>1.483543</td>\n",
       "      <td>2.457814e+06</td>\n",
       "      <td>135.142133</td>\n",
       "      <td>0.726395</td>\n",
       "      <td>1</td>\n",
       "    </tr>\n",
       "  </tbody>\n",
       "</table>\n",
       "<p>5 rows × 25 columns</p>\n",
       "</div>"
      ],
      "text/plain": [
       "   Absolute Magnitude  Est Dia in Feet(min)  Est Dia in Feet(max)  \\\n",
       "0                21.6            417.388066            933.308089   \n",
       "1                21.3            479.225620           1071.581063   \n",
       "2                20.3            759.521423           1698.341531   \n",
       "3                27.4             28.876199             64.569144   \n",
       "4                21.6            417.388066            933.308089   \n",
       "\n",
       "   Epoch Date Close Approach  Relative Velocity km per sec  Miles per hour  \\\n",
       "0               788947200000                      6.115834    13680.509944   \n",
       "1               788947200000                     18.113985    40519.173105   \n",
       "2               789552000000                      7.590711    16979.661798   \n",
       "3               790156800000                     11.173874    24994.839864   \n",
       "4               790156800000                      9.840831    22012.954985   \n",
       "\n",
       "   Miss Dist.(Astronomical)  Miss Dist.(miles)  Orbit ID  Orbit Uncertainity  \\\n",
       "0                  0.419483         38993336.0        17                   5   \n",
       "1                  0.383014         35603420.0        21                   3   \n",
       "2                  0.050956          4736657.5        22                   0   \n",
       "3                  0.285322         26522368.0         7                   6   \n",
       "4                  0.407832         37910368.0        25                   1   \n",
       "\n",
       "   ...  Inclination  Asc Node Longitude  Orbital Period  Perihelion Distance  \\\n",
       "0  ...     6.025981          314.373913      609.599786             0.808259   \n",
       "1  ...    28.412996          136.717242      425.869294             0.718200   \n",
       "2  ...     4.237961          259.475979      643.580228             0.950791   \n",
       "3  ...     7.905894           57.173266      514.082140             0.983902   \n",
       "4  ...    16.793382           84.629307      495.597821             0.967687   \n",
       "\n",
       "   Perihelion Arg  Aphelion Dist  Perihelion Time  Mean Anomaly  Mean Motion  \\\n",
       "0       57.257470       2.005764     2.458162e+06    264.837533     0.590551   \n",
       "1      313.091975       1.497352     2.457795e+06    173.741112     0.845330   \n",
       "2      248.415038       1.966857     2.458120e+06    292.893654     0.559371   \n",
       "3       18.707701       1.527904     2.457902e+06     68.741007     0.700277   \n",
       "4      158.263596       1.483543     2.457814e+06    135.142133     0.726395   \n",
       "\n",
       "   Hazardous  \n",
       "0          1  \n",
       "1          0  \n",
       "2          1  \n",
       "3          0  \n",
       "4          1  \n",
       "\n",
       "[5 rows x 25 columns]"
      ]
     },
     "execution_count": 404,
     "metadata": {},
     "output_type": "execute_result"
    }
   ],
   "source": [
    "data.head()"
   ]
  },
  {
   "attachments": {},
   "cell_type": "markdown",
   "metadata": {},
   "source": [
    "## Creating Independent and Dependent Variables"
   ]
  },
  {
   "attachments": {},
   "cell_type": "markdown",
   "metadata": {},
   "source": [
    "- our target variable is scores_overall\n",
    "- So we are trying to predict what a given school's overall rating is when we factor in every thing else"
   ]
  },
  {
   "cell_type": "code",
   "execution_count": 405,
   "metadata": {},
   "outputs": [
    {
     "data": {
      "text/plain": [
       "Index(['Absolute Magnitude', 'Est Dia in Feet(min)', 'Est Dia in Feet(max)',\n",
       "       'Epoch Date Close Approach', 'Relative Velocity km per sec',\n",
       "       'Miles per hour', 'Miss Dist.(Astronomical)', 'Miss Dist.(miles)',\n",
       "       'Orbit ID', 'Orbit Uncertainity', 'Minimum Orbit Intersection',\n",
       "       'Jupiter Tisserand Invariant', 'Epoch Osculation', 'Eccentricity',\n",
       "       'Semi Major Axis', 'Inclination', 'Asc Node Longitude',\n",
       "       'Orbital Period', 'Perihelion Distance', 'Perihelion Arg',\n",
       "       'Aphelion Dist', 'Perihelion Time', 'Mean Anomaly', 'Mean Motion',\n",
       "       'Hazardous'],\n",
       "      dtype='object')"
      ]
     },
     "execution_count": 405,
     "metadata": {},
     "output_type": "execute_result"
    }
   ],
   "source": [
    "data.columns"
   ]
  },
  {
   "cell_type": "code",
   "execution_count": 406,
   "metadata": {},
   "outputs": [],
   "source": [
    "x = data[['Absolute Magnitude', 'Est Dia in Feet(min)', 'Est Dia in Feet(max)',\n",
    "       'Epoch Date Close Approach', 'Relative Velocity km per sec',\n",
    "       'Miles per hour', 'Miss Dist.(Astronomical)', 'Miss Dist.(miles)',\n",
    "       'Orbit ID', 'Orbit Uncertainity', 'Minimum Orbit Intersection',\n",
    "       'Jupiter Tisserand Invariant', 'Epoch Osculation', 'Eccentricity',\n",
    "       'Semi Major Axis', 'Inclination', 'Asc Node Longitude',\n",
    "       'Orbital Period', 'Perihelion Distance', 'Perihelion Arg',\n",
    "       'Aphelion Dist', 'Perihelion Time', 'Mean Anomaly', 'Mean Motion']]\n",
    "\n",
    "y = data[['Hazardous']]"
   ]
  },
  {
   "attachments": {},
   "cell_type": "markdown",
   "metadata": {},
   "source": [
    "## Training set and Test set"
   ]
  },
  {
   "cell_type": "code",
   "execution_count": 407,
   "metadata": {},
   "outputs": [],
   "source": [
    "x_train, x_rest, y_train, y_rest = train_test_split(x, y, test_size=.30, random_state=42)"
   ]
  },
  {
   "cell_type": "code",
   "execution_count": 408,
   "metadata": {},
   "outputs": [],
   "source": [
    "x_test, x_val, y_test, y_val = train_test_split(x_rest, y_rest, test_size=.50, random_state=42)"
   ]
  },
  {
   "attachments": {},
   "cell_type": "markdown",
   "metadata": {},
   "source": [
    "## Logistic Regression"
   ]
  },
  {
   "cell_type": "code",
   "execution_count": 409,
   "metadata": {},
   "outputs": [
    {
     "name": "stderr",
     "output_type": "stream",
     "text": [
      "/Users/bobby/opt/anaconda3/lib/python3.9/site-packages/sklearn/utils/validation.py:993: DataConversionWarning: A column-vector y was passed when a 1d array was expected. Please change the shape of y to (n_samples, ), for example using ravel().\n",
      "  y = column_or_1d(y, warn=True)\n"
     ]
    },
    {
     "data": {
      "text/plain": [
       "LogisticRegression(max_iter=5000)"
      ]
     },
     "execution_count": 409,
     "metadata": {},
     "output_type": "execute_result"
    }
   ],
   "source": [
    "clf = LogisticRegression(max_iter=5000)\n",
    "clf.fit(x_train.values, y_train)"
   ]
  },
  {
   "cell_type": "code",
   "execution_count": 410,
   "metadata": {},
   "outputs": [
    {
     "name": "stdout",
     "output_type": "stream",
     "text": [
      "Coefficients [[-3.82654019e-23  1.37026884e-21  3.06401427e-21 -1.39563990e-12\n",
      "   1.38824901e-24  3.10537422e-21 -2.37776194e-25 -2.21026780e-17\n",
      "   9.72070006e-23 -1.76112860e-23 -4.61843790e-25 -6.12697016e-24\n",
      "  -2.77798292e-18  2.66114179e-26 -1.54044278e-24 -1.52906394e-23\n",
      "  -1.83422875e-22 -6.99095767e-22 -1.55315311e-24 -2.24973754e-22\n",
      "  -1.52773245e-24 -2.77799154e-18 -1.27046319e-22 -8.77027583e-25]]\n",
      "Intercept [-1.13049208e-24]\n"
     ]
    }
   ],
   "source": [
    "print(\"Coefficients\", clf.coef_)\n",
    "print(\"Intercept\", clf.intercept_)"
   ]
  },
  {
   "attachments": {},
   "cell_type": "markdown",
   "metadata": {},
   "source": [
    "## Results"
   ]
  },
  {
   "attachments": {},
   "cell_type": "markdown",
   "metadata": {},
   "source": [
    "- Viewing actual vs predicted values"
   ]
  },
  {
   "cell_type": "code",
   "execution_count": 411,
   "metadata": {},
   "outputs": [
    {
     "data": {
      "text/html": [
       "<div>\n",
       "<style scoped>\n",
       "    .dataframe tbody tr th:only-of-type {\n",
       "        vertical-align: middle;\n",
       "    }\n",
       "\n",
       "    .dataframe tbody tr th {\n",
       "        vertical-align: top;\n",
       "    }\n",
       "\n",
       "    .dataframe thead th {\n",
       "        text-align: right;\n",
       "    }\n",
       "</style>\n",
       "<table border=\"1\" class=\"dataframe\">\n",
       "  <thead>\n",
       "    <tr style=\"text-align: right;\">\n",
       "      <th></th>\n",
       "      <th>Absolute Magnitude</th>\n",
       "      <th>Est Dia in Feet(min)</th>\n",
       "      <th>Est Dia in Feet(max)</th>\n",
       "      <th>Epoch Date Close Approach</th>\n",
       "      <th>Relative Velocity km per sec</th>\n",
       "      <th>Miles per hour</th>\n",
       "      <th>Miss Dist.(Astronomical)</th>\n",
       "      <th>Miss Dist.(miles)</th>\n",
       "      <th>Orbit ID</th>\n",
       "      <th>Orbit Uncertainity</th>\n",
       "      <th>...</th>\n",
       "      <th>Semi Major Axis</th>\n",
       "      <th>Inclination</th>\n",
       "      <th>Asc Node Longitude</th>\n",
       "      <th>Orbital Period</th>\n",
       "      <th>Perihelion Distance</th>\n",
       "      <th>Perihelion Arg</th>\n",
       "      <th>Aphelion Dist</th>\n",
       "      <th>Perihelion Time</th>\n",
       "      <th>Mean Anomaly</th>\n",
       "      <th>Mean Motion</th>\n",
       "    </tr>\n",
       "  </thead>\n",
       "  <tbody>\n",
       "    <tr>\n",
       "      <th>1545</th>\n",
       "      <td>21.100</td>\n",
       "      <td>525.460443</td>\n",
       "      <td>1174.965271</td>\n",
       "      <td>1079942400000</td>\n",
       "      <td>11.845813</td>\n",
       "      <td>26497.898367</td>\n",
       "      <td>0.467468</td>\n",
       "      <td>43453840.0</td>\n",
       "      <td>12</td>\n",
       "      <td>1</td>\n",
       "      <td>...</td>\n",
       "      <td>1.890802</td>\n",
       "      <td>23.423175</td>\n",
       "      <td>345.866224</td>\n",
       "      <td>949.658442</td>\n",
       "      <td>1.277020</td>\n",
       "      <td>245.172315</td>\n",
       "      <td>2.504584</td>\n",
       "      <td>2.457912e+06</td>\n",
       "      <td>33.427679</td>\n",
       "      <td>0.379084</td>\n",
       "    </tr>\n",
       "    <tr>\n",
       "      <th>3066</th>\n",
       "      <td>21.000</td>\n",
       "      <td>550.224631</td>\n",
       "      <td>1230.339678</td>\n",
       "      <td>1302246000000</td>\n",
       "      <td>4.631254</td>\n",
       "      <td>10359.651014</td>\n",
       "      <td>0.283848</td>\n",
       "      <td>26385280.0</td>\n",
       "      <td>15</td>\n",
       "      <td>3</td>\n",
       "      <td>...</td>\n",
       "      <td>1.966103</td>\n",
       "      <td>8.947614</td>\n",
       "      <td>174.540823</td>\n",
       "      <td>1006.949518</td>\n",
       "      <td>1.273254</td>\n",
       "      <td>22.920712</td>\n",
       "      <td>2.658951</td>\n",
       "      <td>2.457670e+06</td>\n",
       "      <td>118.112867</td>\n",
       "      <td>0.357515</td>\n",
       "    </tr>\n",
       "    <tr>\n",
       "      <th>44</th>\n",
       "      <td>26.500</td>\n",
       "      <td>43.705896</td>\n",
       "      <td>97.729354</td>\n",
       "      <td>797324400000</td>\n",
       "      <td>7.516462</td>\n",
       "      <td>16813.574269</td>\n",
       "      <td>0.236051</td>\n",
       "      <td>21942320.0</td>\n",
       "      <td>17</td>\n",
       "      <td>1</td>\n",
       "      <td>...</td>\n",
       "      <td>0.988668</td>\n",
       "      <td>4.320908</td>\n",
       "      <td>264.405602</td>\n",
       "      <td>359.065807</td>\n",
       "      <td>0.974877</td>\n",
       "      <td>87.816443</td>\n",
       "      <td>1.002458</td>\n",
       "      <td>2.457942e+06</td>\n",
       "      <td>58.244024</td>\n",
       "      <td>1.002602</td>\n",
       "    </tr>\n",
       "    <tr>\n",
       "      <th>1437</th>\n",
       "      <td>19.600</td>\n",
       "      <td>1048.431420</td>\n",
       "      <td>2344.363926</td>\n",
       "      <td>1064214000000</td>\n",
       "      <td>41.111128</td>\n",
       "      <td>91961.483226</td>\n",
       "      <td>0.477821</td>\n",
       "      <td>44416240.0</td>\n",
       "      <td>15</td>\n",
       "      <td>0</td>\n",
       "      <td>...</td>\n",
       "      <td>1.956493</td>\n",
       "      <td>54.753563</td>\n",
       "      <td>164.277544</td>\n",
       "      <td>999.575810</td>\n",
       "      <td>0.754132</td>\n",
       "      <td>93.959626</td>\n",
       "      <td>3.158853</td>\n",
       "      <td>2.457857e+06</td>\n",
       "      <td>51.672117</td>\n",
       "      <td>0.360153</td>\n",
       "    </tr>\n",
       "    <tr>\n",
       "      <th>1183</th>\n",
       "      <td>21.613</td>\n",
       "      <td>414.896745</td>\n",
       "      <td>927.737326</td>\n",
       "      <td>1016784000000</td>\n",
       "      <td>8.231308</td>\n",
       "      <td>18412.613010</td>\n",
       "      <td>0.445081</td>\n",
       "      <td>41372844.0</td>\n",
       "      <td>10</td>\n",
       "      <td>9</td>\n",
       "      <td>...</td>\n",
       "      <td>2.090618</td>\n",
       "      <td>19.405481</td>\n",
       "      <td>48.160844</td>\n",
       "      <td>1104.105259</td>\n",
       "      <td>0.924117</td>\n",
       "      <td>74.019518</td>\n",
       "      <td>3.257119</td>\n",
       "      <td>2.452290e+06</td>\n",
       "      <td>340.425562</td>\n",
       "      <td>0.326056</td>\n",
       "    </tr>\n",
       "  </tbody>\n",
       "</table>\n",
       "<p>5 rows × 24 columns</p>\n",
       "</div>"
      ],
      "text/plain": [
       "      Absolute Magnitude  Est Dia in Feet(min)  Est Dia in Feet(max)  \\\n",
       "1545              21.100            525.460443           1174.965271   \n",
       "3066              21.000            550.224631           1230.339678   \n",
       "44                26.500             43.705896             97.729354   \n",
       "1437              19.600           1048.431420           2344.363926   \n",
       "1183              21.613            414.896745            927.737326   \n",
       "\n",
       "      Epoch Date Close Approach  Relative Velocity km per sec  Miles per hour  \\\n",
       "1545              1079942400000                     11.845813    26497.898367   \n",
       "3066              1302246000000                      4.631254    10359.651014   \n",
       "44                 797324400000                      7.516462    16813.574269   \n",
       "1437              1064214000000                     41.111128    91961.483226   \n",
       "1183              1016784000000                      8.231308    18412.613010   \n",
       "\n",
       "      Miss Dist.(Astronomical)  Miss Dist.(miles)  Orbit ID  \\\n",
       "1545                  0.467468         43453840.0        12   \n",
       "3066                  0.283848         26385280.0        15   \n",
       "44                    0.236051         21942320.0        17   \n",
       "1437                  0.477821         44416240.0        15   \n",
       "1183                  0.445081         41372844.0        10   \n",
       "\n",
       "      Orbit Uncertainity  ...  Semi Major Axis  Inclination  \\\n",
       "1545                   1  ...         1.890802    23.423175   \n",
       "3066                   3  ...         1.966103     8.947614   \n",
       "44                     1  ...         0.988668     4.320908   \n",
       "1437                   0  ...         1.956493    54.753563   \n",
       "1183                   9  ...         2.090618    19.405481   \n",
       "\n",
       "      Asc Node Longitude  Orbital Period  Perihelion Distance  Perihelion Arg  \\\n",
       "1545          345.866224      949.658442             1.277020      245.172315   \n",
       "3066          174.540823     1006.949518             1.273254       22.920712   \n",
       "44            264.405602      359.065807             0.974877       87.816443   \n",
       "1437          164.277544      999.575810             0.754132       93.959626   \n",
       "1183           48.160844     1104.105259             0.924117       74.019518   \n",
       "\n",
       "      Aphelion Dist  Perihelion Time  Mean Anomaly  Mean Motion  \n",
       "1545       2.504584     2.457912e+06     33.427679     0.379084  \n",
       "3066       2.658951     2.457670e+06    118.112867     0.357515  \n",
       "44         1.002458     2.457942e+06     58.244024     1.002602  \n",
       "1437       3.158853     2.457857e+06     51.672117     0.360153  \n",
       "1183       3.257119     2.452290e+06    340.425562     0.326056  \n",
       "\n",
       "[5 rows x 24 columns]"
      ]
     },
     "execution_count": 411,
     "metadata": {},
     "output_type": "execute_result"
    }
   ],
   "source": [
    "x_test.head()"
   ]
  },
  {
   "cell_type": "code",
   "execution_count": 412,
   "metadata": {},
   "outputs": [
    {
     "data": {
      "text/html": [
       "<div>\n",
       "<style scoped>\n",
       "    .dataframe tbody tr th:only-of-type {\n",
       "        vertical-align: middle;\n",
       "    }\n",
       "\n",
       "    .dataframe tbody tr th {\n",
       "        vertical-align: top;\n",
       "    }\n",
       "\n",
       "    .dataframe thead th {\n",
       "        text-align: right;\n",
       "    }\n",
       "</style>\n",
       "<table border=\"1\" class=\"dataframe\">\n",
       "  <thead>\n",
       "    <tr style=\"text-align: right;\">\n",
       "      <th></th>\n",
       "      <th>Actual</th>\n",
       "      <th>Predicted</th>\n",
       "    </tr>\n",
       "  </thead>\n",
       "  <tbody>\n",
       "    <tr>\n",
       "      <th>0</th>\n",
       "      <td>0</td>\n",
       "      <td>0</td>\n",
       "    </tr>\n",
       "    <tr>\n",
       "      <th>1</th>\n",
       "      <td>0</td>\n",
       "      <td>0</td>\n",
       "    </tr>\n",
       "    <tr>\n",
       "      <th>2</th>\n",
       "      <td>0</td>\n",
       "      <td>0</td>\n",
       "    </tr>\n",
       "    <tr>\n",
       "      <th>3</th>\n",
       "      <td>0</td>\n",
       "      <td>0</td>\n",
       "    </tr>\n",
       "    <tr>\n",
       "      <th>4</th>\n",
       "      <td>0</td>\n",
       "      <td>0</td>\n",
       "    </tr>\n",
       "    <tr>\n",
       "      <th>5</th>\n",
       "      <td>0</td>\n",
       "      <td>0</td>\n",
       "    </tr>\n",
       "    <tr>\n",
       "      <th>6</th>\n",
       "      <td>0</td>\n",
       "      <td>0</td>\n",
       "    </tr>\n",
       "    <tr>\n",
       "      <th>7</th>\n",
       "      <td>0</td>\n",
       "      <td>0</td>\n",
       "    </tr>\n",
       "    <tr>\n",
       "      <th>8</th>\n",
       "      <td>0</td>\n",
       "      <td>0</td>\n",
       "    </tr>\n",
       "    <tr>\n",
       "      <th>9</th>\n",
       "      <td>0</td>\n",
       "      <td>0</td>\n",
       "    </tr>\n",
       "  </tbody>\n",
       "</table>\n",
       "</div>"
      ],
      "text/plain": [
       "   Actual  Predicted\n",
       "0       0          0\n",
       "1       0          0\n",
       "2       0          0\n",
       "3       0          0\n",
       "4       0          0\n",
       "5       0          0\n",
       "6       0          0\n",
       "7       0          0\n",
       "8       0          0\n",
       "9       0          0"
      ]
     },
     "execution_count": 412,
     "metadata": {},
     "output_type": "execute_result"
    }
   ],
   "source": [
    "y_pred = clf.predict(x_test.values)\n",
    "\n",
    "# Convert 2D array to 1D so we can use a dataframe to view results\n",
    "y_test = np.ravel(y_test)\n",
    "y_pred = np.ravel(y_pred)\n",
    "\n",
    "\n",
    "pred_view = pd.DataFrame({'Actual': y_test, 'Predicted': y_pred})\n",
    "pred_view.head(10)"
   ]
  },
  {
   "cell_type": "code",
   "execution_count": 413,
   "metadata": {},
   "outputs": [
    {
     "name": "stdout",
     "output_type": "stream",
     "text": [
      "R-Squared is 0.8591749644381224\n"
     ]
    },
    {
     "name": "stderr",
     "output_type": "stream",
     "text": [
      "/Users/bobby/opt/anaconda3/lib/python3.9/site-packages/sklearn/base.py:443: UserWarning: X has feature names, but LogisticRegression was fitted without feature names\n",
      "  warnings.warn(\n"
     ]
    }
   ],
   "source": [
    "print(\"R-Squared is\", clf.score(x_test, y_test))"
   ]
  },
  {
   "cell_type": "code",
   "execution_count": 414,
   "metadata": {},
   "outputs": [],
   "source": [
    "import math"
   ]
  },
  {
   "cell_type": "code",
   "execution_count": 415,
   "metadata": {},
   "outputs": [
    {
     "name": "stdout",
     "output_type": "stream",
     "text": [
      "MSE: 0.14\n",
      "RMSE: 0.38\n"
     ]
    }
   ],
   "source": [
    "print(f\"MSE: {mean_squared_error(y_test, y_pred):.2f}\")\n",
    "print(f\"RMSE: {math.sqrt(mean_squared_error(y_test, y_pred)):.2f}\")"
   ]
  },
  {
   "attachments": {},
   "cell_type": "markdown",
   "metadata": {},
   "source": [
    "## Classification Report and Confusion Matrix"
   ]
  },
  {
   "cell_type": "code",
   "execution_count": 416,
   "metadata": {},
   "outputs": [
    {
     "name": "stdout",
     "output_type": "stream",
     "text": [
      "[[604   0]\n",
      " [ 99   0]]\n"
     ]
    }
   ],
   "source": [
    "cm = confusion_matrix(y_test, np.round(y_pred))\n",
    "print(cm)"
   ]
  },
  {
   "cell_type": "code",
   "execution_count": 417,
   "metadata": {},
   "outputs": [
    {
     "data": {
      "image/png": "[encoded data removed]",
      "text/plain": [
       "<Figure size 432x288 with 2 Axes>"
      ]
     },
     "metadata": {
      "needs_background": "light"
     },
     "output_type": "display_data"
    }
   ],
   "source": [
    "disp = ConfusionMatrixDisplay(confusion_matrix=cm, display_labels=[0,1])\n",
    "disp.plot(cmap='Blues')\n",
    "plt.title('Confusion Matrix')\n",
    "plt.show()"
   ]
  },
  {
   "cell_type": "code",
   "execution_count": 418,
   "metadata": {},
   "outputs": [
    {
     "name": "stdout",
     "output_type": "stream",
     "text": [
      "              precision    recall  f1-score   support\n",
      "\n",
      "           0       0.86      1.00      0.92       604\n",
      "           1       0.00      0.00      0.00        99\n",
      "\n",
      "    accuracy                           0.86       703\n",
      "   macro avg       0.43      0.50      0.46       703\n",
      "weighted avg       0.74      0.86      0.79       703\n",
      "\n"
     ]
    },
    {
     "name": "stderr",
     "output_type": "stream",
     "text": [
      "/Users/bobby/opt/anaconda3/lib/python3.9/site-packages/sklearn/metrics/_classification.py:1318: UndefinedMetricWarning: Precision and F-score are ill-defined and being set to 0.0 in labels with no predicted samples. Use `zero_division` parameter to control this behavior.\n",
      "  _warn_prf(average, modifier, msg_start, len(result))\n",
      "/Users/bobby/opt/anaconda3/lib/python3.9/site-packages/sklearn/metrics/_classification.py:1318: UndefinedMetricWarning: Precision and F-score are ill-defined and being set to 0.0 in labels with no predicted samples. Use `zero_division` parameter to control this behavior.\n",
      "  _warn_prf(average, modifier, msg_start, len(result))\n",
      "/Users/bobby/opt/anaconda3/lib/python3.9/site-packages/sklearn/metrics/_classification.py:1318: UndefinedMetricWarning: Precision and F-score are ill-defined and being set to 0.0 in labels with no predicted samples. Use `zero_division` parameter to control this behavior.\n",
      "  _warn_prf(average, modifier, msg_start, len(result))\n"
     ]
    }
   ],
   "source": [
    "class_report = classification_report(y_test, np.round(y_pred))\n",
    "print(class_report)"
   ]
  }
 ],
 "metadata": {
  "kernelspec": {
   "display_name": "base",
   "language": "python",
   "name": "python3"
  },
  "language_info": {
   "codemirror_mode": {
    "name": "ipython",
    "version": 3
   },
   "file_extension": ".py",
   "mimetype": "text/x-python",
   "name": "python",
   "nbconvert_exporter": "python",
   "pygments_lexer": "ipython3",
   "version": "3.9.12"
  },
  "orig_nbformat": 4
 },
 "nbformat": 4,
 "nbformat_minor": 2
}
